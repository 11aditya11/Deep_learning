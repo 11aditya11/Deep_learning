{
 "cells": [
  {
   "cell_type": "code",
   "execution_count": 1,
   "metadata": {},
   "outputs": [],
   "source": [
    "from torchvision import transforms\n",
    "import  torch.nn as nn\n",
    "import torch\n",
    "import torch.nn.functional as F\n",
    "from torch.utils.data import DataLoader\n",
    "from torch.utils.data.sampler import SubsetRandomSampler\n",
    "import numpy as np"
   ]
  },
  {
   "cell_type": "code",
   "execution_count": 2,
   "metadata": {},
   "outputs": [
    {
     "name": "stdout",
     "output_type": "stream",
     "text": [
      "Files already downloaded and verified\n"
     ]
    }
   ],
   "source": [
    "## load the dataset \n",
    "from torchvision.datasets import CIFAR10\n",
    "_tasks = transforms.Compose([\n",
    "    transforms.ToTensor(),\n",
    "    transforms.Normalize((0.5, 0.5, 0.5), (0.5, 0.5, 0.5))\n",
    "    ])\n",
    "cifar = CIFAR10('data', train=True, download=True, transform=_tasks)\n"
   ]
  },
  {
   "cell_type": "code",
   "execution_count": 3,
   "metadata": {},
   "outputs": [],
   "source": [
    "## create training and validation split \n",
    "split = int(0.8 * len(cifar))\n",
    "index_list = list(range(len(cifar)))\n",
    "train_idx, valid_idx = index_list[:split], index_list[split:]"
   ]
  },
  {
   "cell_type": "code",
   "execution_count": 4,
   "metadata": {},
   "outputs": [],
   "source": [
    "## create training and validation sampler objects\n",
    "tr_sampler = SubsetRandomSampler(train_idx)\n",
    "val_sampler = SubsetRandomSampler(valid_idx)"
   ]
  },
  {
   "cell_type": "code",
   "execution_count": 5,
   "metadata": {},
   "outputs": [],
   "source": [
    "## create iterator objects for train and valid datasets\n",
    "trainloader = DataLoader(cifar, batch_size=256, sampler=tr_sampler)\n",
    "validloader = DataLoader(cifar, batch_size=256, sampler=val_sampler)"
   ]
  },
  {
   "cell_type": "code",
   "execution_count": 6,
   "metadata": {},
   "outputs": [],
   "source": [
    "class Model(nn.Module):\n",
    "    def __init__(self):\n",
    "        super(Model, self).__init__()\n",
    "        \n",
    "        ## define the layers\n",
    "        self.conv1 = nn.Conv2d(3, 16, 3, padding=1)\n",
    "        self.conv2 = nn.Conv2d(16, 32, 3, padding=1)\n",
    "        self.conv3 = nn.Conv2d(32, 64, 3, padding=1)\n",
    "        self.pool = nn.MaxPool2d(2, 2)\n",
    "        self.linear1 = nn.Linear(1024, 512)\n",
    "        self.linear2 = nn.Linear(512, 10)\n",
    "    \n",
    "    def forward(self, x):\n",
    "        x = self.pool(F.relu(self.conv1(x)))\n",
    "        x = self.pool(F.relu(self.conv2(x)))\n",
    "        x = self.pool(F.relu(self.conv3(x)))\n",
    "        x = x.view(-1, 1024) ## reshaping \n",
    "        x = F.relu(self.linear1(x))\n",
    "        x = self.linear2(x)\n",
    "        return x\n",
    "\n",
    "model = Model().cuda()"
   ]
  },
  {
   "cell_type": "code",
   "execution_count": 7,
   "metadata": {},
   "outputs": [],
   "source": [
    "import torch.optim as optim\n",
    "loss_function = nn.CrossEntropyLoss()\n",
    "optimizer = optim.SGD(model.parameters(), lr=0.01, weight_decay= 1e-6, momentum = 0.9, nesterov = True)"
   ]
  },
  {
   "cell_type": "code",
   "execution_count": 8,
   "metadata": {},
   "outputs": [
    {
     "name": "stdout",
     "output_type": "stream",
     "text": [
      "epoch:   1      train_loss :  2.1322151665474958      val_loss : 1.900375697016716\n",
      "epoch:   2      train_loss :  1.6867369177994456      val_loss : 1.6470004588365554\n",
      "epoch:   3      train_loss :  1.4394961147551324      val_loss : 1.3830382406711579\n",
      "epoch:   4      train_loss :  1.2953259755092061      val_loss : 1.3030912637710572\n",
      "epoch:   5      train_loss :  1.1869424839687954      val_loss : 1.2087076902389526\n",
      "epoch:   6      train_loss :  1.089129991971763      val_loss : 1.1513065248727798\n",
      "epoch:   7      train_loss :  1.0109339739866317      val_loss : 1.0682095438241959\n",
      "epoch:   8      train_loss :  0.9346284858740059      val_loss : 1.0304809927940368\n",
      "epoch:   9      train_loss :  0.8700462135539693      val_loss : 1.0410577729344368\n",
      "epoch:   10      train_loss :  0.8077853208134889      val_loss : 0.9359570801258087\n",
      "epoch:   11      train_loss :  0.7479696729380614      val_loss : 0.93116664737463\n",
      "epoch:   12      train_loss :  0.6906383588055897      val_loss : 0.9237694665789604\n",
      "epoch:   13      train_loss :  0.6310278594873513      val_loss : 0.9953354939818382\n"
     ]
    }
   ],
   "source": [
    "## run for 30 Epochs\n",
    "for epoch in range(1, 14):\n",
    "    train_loss, valid_loss = [], []\n",
    "       ## training part \n",
    "    model.train()\n",
    "    for data, target in trainloader:\n",
    "        optimizer.zero_grad()\n",
    "        data=data.to('cuda:0')\n",
    "        target=target.to('cuda:0')\n",
    "        output = model(data)\n",
    "        loss = loss_function(output, target)\n",
    "        loss.backward()\n",
    "        optimizer.step()\n",
    "        train_loss.append(loss.item()) \n",
    "    \n",
    "    ## evaluation part \n",
    "    model.eval()\n",
    "    for data, target in validloader:\n",
    "        optimizer.zero_grad()\n",
    "        data=data.to('cuda:0')\n",
    "        target=target.to('cuda:0')\n",
    "        output = model(data)\n",
    "        loss = loss_function(output, target)\n",
    "        valid_loss.append(loss.item())\n",
    "    print('epoch:  ',epoch,'     train_loss : ',np.mean(train_loss),'     val_loss :',np.mean(valid_loss))\n",
    "        ## dataloader for validation dataset \n",
    "\n"
   ]
  },
  {
   "cell_type": "code",
   "execution_count": 9,
   "metadata": {},
   "outputs": [],
   "source": [
    "dataiter = iter(validloader)\n",
    "data, labels = dataiter.next()\n",
    "data = data.to('cuda:0')\n",
    "output = model(data)"
   ]
  },
  {
   "cell_type": "code",
   "execution_count": 10,
   "metadata": {},
   "outputs": [],
   "source": [
    "_, preds_tensor = torch.max(output, 1)\n",
    "preds = np.squeeze(preds_tensor)"
   ]
  },
  {
   "cell_type": "code",
   "execution_count": 13,
   "metadata": {},
   "outputs": [
    {
     "name": "stdout",
     "output_type": "stream",
     "text": [
      "Actual   : tensor([8, 4, 5, 1, 3, 4, 5, 2, 2, 7])\n",
      "Predicted: tensor([8, 5, 5, 1, 4, 4, 5, 8, 0, 5], device='cuda:0')\n"
     ]
    }
   ],
   "source": [
    "print (\"Actual   :\", labels[:10])\n",
    "print (\"Predicted:\", preds[:10])\n"
   ]
  },
  {
   "cell_type": "code",
   "execution_count": 17,
   "metadata": {},
   "outputs": [
    {
     "data": {
      "text/plain": [
       "tensor([8, 4, 5, 1, 3, 4, 5, 2, 2, 7])"
      ]
     },
     "execution_count": 17,
     "metadata": {},
     "output_type": "execute_result"
    }
   ],
   "source": [
    "labels[:10]"
   ]
  },
  {
   "cell_type": "code",
   "execution_count": 30,
   "metadata": {},
   "outputs": [],
   "source": [
    "import matplotlib.pyplot as plt\n",
    "\n",
    "img=data.cpu().data.numpy()[0]"
   ]
  }
 ],
 "metadata": {
  "kernelspec": {
   "display_name": "Python 3",
   "language": "python",
   "name": "python3"
  },
  "language_info": {
   "codemirror_mode": {
    "name": "ipython",
    "version": 3
   },
   "file_extension": ".py",
   "mimetype": "text/x-python",
   "name": "python",
   "nbconvert_exporter": "python",
   "pygments_lexer": "ipython3",
   "version": "3.7.4"
  }
 },
 "nbformat": 4,
 "nbformat_minor": 2
}
