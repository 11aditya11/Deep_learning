{
 "cells": [
  {
   "cell_type": "code",
   "execution_count": 1,
   "metadata": {},
   "outputs": [],
   "source": [
    "from torchvision import transforms\n",
    "import  torch.nn as nn\n",
    "import torch\n",
    "import torch.nn.functional as F"
   ]
  },
  {
   "cell_type": "code",
   "execution_count": 2,
   "metadata": {},
   "outputs": [],
   "source": [
    "_tasks = transforms.Compose([\n",
    "    transforms.ToTensor(),\n",
    "    transforms.Normalize([0.5], [0.5])\n",
    "    ])"
   ]
  },
  {
   "cell_type": "code",
   "execution_count": 3,
   "metadata": {},
   "outputs": [],
   "source": [
    "\n",
    "from torchvision.datasets import MNIST"
   ]
  },
  {
   "cell_type": "code",
   "execution_count": 4,
   "metadata": {},
   "outputs": [],
   "source": [
    "## Load MNIST Dataset and apply transformations\n",
    "mnist = MNIST(\"data\", download=True, train=True, transform=_tasks)"
   ]
  },
  {
   "cell_type": "code",
   "execution_count": 5,
   "metadata": {},
   "outputs": [],
   "source": [
    "from torch.utils.data import DataLoader\n",
    "from torch.utils.data.sampler import SubsetRandomSampler"
   ]
  },
  {
   "cell_type": "code",
   "execution_count": 6,
   "metadata": {},
   "outputs": [],
   "source": [
    "## create training and validation split \n",
    "split = int(0.8 * len(mnist))\n",
    "index_list = list(range(len(mnist)))\n",
    "train_idx, valid_idx = index_list[:split], index_list[split:]"
   ]
  },
  {
   "cell_type": "code",
   "execution_count": 7,
   "metadata": {},
   "outputs": [],
   "source": [
    "## create sampler objects using SubsetRandomSampler\n",
    "tr_sampler = SubsetRandomSampler(train_idx)\n",
    "val_sampler = SubsetRandomSampler(valid_idx)"
   ]
  },
  {
   "cell_type": "code",
   "execution_count": null,
   "metadata": {},
   "outputs": [],
   "source": []
  },
  {
   "cell_type": "code",
   "execution_count": 8,
   "metadata": {},
   "outputs": [],
   "source": [
    "## create iterator objects for train and valid datasets\n",
    "trainloader = DataLoader(mnist, batch_size=256, sampler=tr_sampler)\n",
    "validloader = DataLoader(mnist, batch_size=256, sampler=val_sampler)"
   ]
  },
  {
   "cell_type": "code",
   "execution_count": 9,
   "metadata": {},
   "outputs": [],
   "source": [
    "import torch.nn.functional as F"
   ]
  },
  {
   "cell_type": "code",
   "execution_count": 10,
   "metadata": {},
   "outputs": [],
   "source": [
    "class Model(nn.Module):\n",
    "    def __init__(self):\n",
    "        super().__init__()\n",
    "        self.hidden = nn.Linear(784, 128)\n",
    "        self.output = nn.Linear(128, 10)\n",
    "  \n",
    "    def forward(self, x):\n",
    "        x = self.hidden(x)\n",
    "        x = F.sigmoid(x)\n",
    "        x = self.output(x)\n",
    "        return x"
   ]
  },
  {
   "cell_type": "code",
   "execution_count": 11,
   "metadata": {},
   "outputs": [],
   "source": [
    "model = Model().cuda()"
   ]
  },
  {
   "cell_type": "code",
   "execution_count": 12,
   "metadata": {},
   "outputs": [],
   "source": [
    "from torch import optim\n",
    "import numpy as np\n",
    "\n",
    "loss_function = nn.CrossEntropyLoss()\n",
    "optimizer = optim.Adam(model.parameters(), lr=0.01)"
   ]
  },
  {
   "cell_type": "code",
   "execution_count": 13,
   "metadata": {
    "scrolled": true
   },
   "outputs": [
    {
     "name": "stderr",
     "output_type": "stream",
     "text": [
      "/home/aditya/anaconda3/lib/python3.7/site-packages/torch/nn/functional.py:1351: UserWarning: nn.functional.sigmoid is deprecated. Use torch.sigmoid instead.\n",
      "  warnings.warn(\"nn.functional.sigmoid is deprecated. Use torch.sigmoid instead.\")\n"
     ]
    },
    {
     "name": "stdout",
     "output_type": "stream",
     "text": [
      "Epoch: 1 Training Loss:  0.5366171749823905 Valid Loss:  0.2807141786560099\n",
      "Epoch: 2 Training Loss:  0.25771358046442905 Valid Loss:  0.22702250962561749\n",
      "Epoch: 3 Training Loss:  0.21885145657715646 Valid Loss:  0.2040645958895379\n",
      "Epoch: 4 Training Loss:  0.20034513467962436 Valid Loss:  0.2015788047871691\n",
      "Epoch: 5 Training Loss:  0.1792773344018992 Valid Loss:  0.18156144815556546\n",
      "Epoch: 6 Training Loss:  0.17879866234007033 Valid Loss:  0.22072622528735628\n",
      "Epoch: 7 Training Loss:  0.17563688493472465 Valid Loss:  0.17195965191151233\n",
      "Epoch: 8 Training Loss:  0.16561831676579536 Valid Loss:  0.17638572733452978\n",
      "Epoch: 9 Training Loss:  0.1569447063226649 Valid Loss:  0.18537676381938\n",
      "Epoch: 10 Training Loss:  0.1650906631604154 Valid Loss:  0.2083394226241619\n"
     ]
    }
   ],
   "source": [
    "for epoch in range(1, 11): ## run the model for 10 epochs\n",
    "    train_loss, valid_loss = [], []\n",
    "    \n",
    "    ## training part \n",
    "    model.train()\n",
    "    for data, target in trainloader:\n",
    "        optimizer.zero_grad()\n",
    "        data = data.view(data.size(0), -1)\n",
    "        data=data.to('cuda:0')\n",
    "        target=target.to('cuda:0')\n",
    "                ## 1. forward propagation\n",
    "        output = model(data)\n",
    "        #print(type(target))\n",
    "        ## 2. loss calculation\n",
    "        loss = F.cross_entropy(output, target)\n",
    "        \n",
    "        ## 3. backward propagation\n",
    "        loss.backward()\n",
    "        \n",
    "        ## 4. weight optimization\n",
    "        optimizer.step()\n",
    "        \n",
    "        train_loss.append(loss.item())\n",
    "            ## evaluation part \n",
    "    model.eval()\n",
    "    for data, target in validloader:\n",
    "        data = data.view(data.size(0), -1)\n",
    "        data = data.to('cuda:0')\n",
    "        target = target.to('cuda:0')\n",
    "        output = model(data)\n",
    "        loss = loss_function(output, target)\n",
    "        valid_loss.append(loss.item())\n",
    "\n",
    "    print (\"Epoch:\", epoch, \"Training Loss: \", np.mean(train_loss), \"Valid Loss: \", np.mean(valid_loss))\n",
    "\n",
    "    "
   ]
  },
  {
   "cell_type": "code",
   "execution_count": 15,
   "metadata": {},
   "outputs": [
    {
     "name": "stderr",
     "output_type": "stream",
     "text": [
      "/home/aditya/anaconda3/lib/python3.7/site-packages/torch/nn/functional.py:1351: UserWarning: nn.functional.sigmoid is deprecated. Use torch.sigmoid instead.\n",
      "  warnings.warn(\"nn.functional.sigmoid is deprecated. Use torch.sigmoid instead.\")\n"
     ]
    }
   ],
   "source": [
    "## dataloader for validation dataset \n",
    "dataiter = iter(validloader)\n",
    "\n",
    "data, labels = dataiter.next()\n",
    "data=data.to('cuda:0')\n",
    "data = data.view(data.size(0), -1)\n",
    "output = model(data)"
   ]
  },
  {
   "cell_type": "code",
   "execution_count": 17,
   "metadata": {},
   "outputs": [],
   "source": [
    "_, preds_tensor = torch.max(output, 1)\n",
    "preds = np.squeeze(preds_tensor)"
   ]
  },
  {
   "cell_type": "code",
   "execution_count": 19,
   "metadata": {},
   "outputs": [
    {
     "name": "stdout",
     "output_type": "stream",
     "text": [
      "Actual   : tensor([9, 2, 3, 0, 4, 4, 1, 7, 9, 4])\n",
      "Predicted: tensor([9, 2, 3, 0, 4, 4, 1, 7, 9, 4], device='cuda:0')\n"
     ]
    }
   ],
   "source": [
    "print (\"Actual   :\", labels[:10])\n",
    "print (\"Predicted:\", preds[:10])"
   ]
  },
  {
   "cell_type": "code",
   "execution_count": null,
   "metadata": {},
   "outputs": [],
   "source": []
  }
 ],
 "metadata": {
  "kernelspec": {
   "display_name": "Python 3",
   "language": "python",
   "name": "python3"
  },
  "language_info": {
   "codemirror_mode": {
    "name": "ipython",
    "version": 3
   },
   "file_extension": ".py",
   "mimetype": "text/x-python",
   "name": "python",
   "nbconvert_exporter": "python",
   "pygments_lexer": "ipython3",
   "version": "3.7.4"
  }
 },
 "nbformat": 4,
 "nbformat_minor": 2
}
